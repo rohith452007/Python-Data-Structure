{
  "nbformat": 4,
  "nbformat_minor": 0,
  "metadata": {
    "colab": {
      "provenance": []
    },
    "kernelspec": {
      "name": "python3",
      "display_name": "Python 3"
    },
    "language_info": {
      "name": "python"
    }
  },
  "cells": [
    {
      "cell_type": "markdown",
      "source": [
        "Data Types and Structures Questions\n",
        "\n",
        "1--Data Structures are ways of organizing and storing data so that it can be accessed and manipulated efffeciently.\n",
        "Ex: String,List,Tuples,Dictionary,Array\n",
        "Dta structure helps keep data organized in a way that suits the specific needs of a program (e.g., sorted, searchable)\n",
        "\n",
        "2--Mutable objects can be changed after they are created.\n",
        "Ex:List,Dictionary,Set.\n",
        "Immutable objects cannot be changed after they are created. Any modification creates a new object.\n",
        "Ex: Tuples,Strings\n",
        "\n",
        "3--The main differences between lists and tuples in Python is lists are mutable and tuples are immutable.\n",
        "\n",
        "4-- Dictionaries store data as key-value pairs. Keys are unique and immutable.\n",
        "\n",
        "5--We might use a set instead of a list in Python when you want to store unique items without duplicates, need faster checks to see if an item exists, or want to perform set operations like union, intersection, or difference easily.\n",
        "\n",
        "6--A string is a sequence of characters (like letters, numbers, or symbols) enclosed in quotes.A list is a sequence of items that can include any data type (numbers, strings, other lists, etc.) and is written using square brackets.\n",
        "The main differences are: strings are immutable,while lists are mutable.\n",
        "\n",
        "7--Tuples ensure data integrity in Python by being immutable.This immutability helps protect data from accidental changes, making tuples ideal for storing constant or fixed values (like coordinates, settings, or database keys).\n",
        "\n",
        "8--A hash table is a data structure that stores data in key-value pairs and allows for fast access using a key. It works by applying a hash function to the key, which converts it into a specific index in an internal array where the value is stored.\n",
        " Dictionaries are built using hash tables. When you use a dictionary like my_dict[\"name\"], Python:hashes the key \"name\" using the hash() function\n",
        "\n",
        "9--Yes, lists can contain different data types in Python.\n",
        "\n",
        "10--Strings are immutable in Python to ensure safety, performance, and consistency. Once a string is created, its content cannot be changed.\n",
        "\n",
        "11--Dictionaries are better than lists when you need to associate data with meaningful labels, perform fast lookups, or handle non-sequential data.\n",
        "\n",
        "12--A tuple is preferable over a list when you need to store a fixed collection of items that should not change throughout the program.\n",
        "Ex:A birth date doesn't change, so it's ideal to store it in a tuple.\n",
        "\n",
        "13--Sets automatically remove duplicate values. A set is an unordered collection of unique elements, so if you add duplicates, only one copy is kept.\n",
        "\n",
        "14--in keyword\n",
        "     -It checks if the value is present in the list.\n",
        "     -It checks if the key is present in the dictionary, not the value.\n",
        "\n",
        "15--No, you cannot modify the elements of a tuple because tuples are immutable in Python.This means that once a tuple is created, its contents cannot be changed, added, or removed.\n",
        "\n",
        "16--A nested dictionary is a dictionary where some of the values are themselves dictionaries.\n",
        "Ex:- students = {\n",
        "    \"Ajay\": {\n",
        "        \"age\": 20,\n",
        "        \"grades\": {\"math\": 90, \"physics\": 95}\n",
        "    },\n",
        "    \"Arun\": {\n",
        "        \"age\": 22,\n",
        "        \"grades\": {\"chemistry\": 85, \"biology\": 88}\n",
        "    }\n",
        "}\n",
        "\n",
        "17--Accessing elements in a Python dictionary generally has an average time complexity of O(1), meaning it takes constant time regardless of the size of the dictionary. This efficiency comes from the dictionary’s underlying implementation using a hash table, which quickly maps keys to their corresponding values using a hash function.\n",
        "\n",
        "18--Lists are preferred over dictionaries when you need to store an ordered collection of items accessed by their position rather than by a key, such as when the order of elements matters or you want to iterate through items in sequence.\n",
        "\n",
        "19--Dictionaries were traditionally considered unordered because they didn’t maintain the order in which items were added—meaning the keys could appear in any order when you accessed or iterated over the dictionary. However, since Python 3.7, dictionaries preserve insertion order as an official language feature, so items are retrieved in the order they were added.\n",
        "\n",
        "20--The main difference between a list and a dictionary in terms of data retrieval is that lists retrieve data by position (index), while dictionaries retrieve data by key."
      ],
      "metadata": {
        "id": "vZhwG7OkVDwT"
      }
    },
    {
      "cell_type": "code",
      "execution_count": 1,
      "metadata": {
        "id": "IsDC2pwAU9Q6",
        "colab": {
          "base_uri": "https://localhost:8080/"
        },
        "outputId": "7a6c131a-0c18-4711-b315-9d181e8efa86"
      },
      "outputs": [
        {
          "output_type": "stream",
          "name": "stdout",
          "text": [
            "My name is Kondru Rohith\n"
          ]
        }
      ],
      "source": [
        "#1\n",
        "name = \"Kondru Rohith\"\n",
        "print(\"My name is\", name)"
      ]
    },
    {
      "cell_type": "code",
      "source": [
        "#2\n",
        "str = \"Hello World\"\n",
        "len(str)"
      ],
      "metadata": {
        "colab": {
          "base_uri": "https://localhost:8080/"
        },
        "id": "XqhYPGPcHISd",
        "outputId": "7fa66d4f-ce1a-4dc2-82d0-894e4372085e"
      },
      "execution_count": 2,
      "outputs": [
        {
          "output_type": "execute_result",
          "data": {
            "text/plain": [
              "11"
            ]
          },
          "metadata": {},
          "execution_count": 2
        }
      ]
    },
    {
      "cell_type": "code",
      "source": [
        "#3\n",
        "str = \"Python Programming\"\n",
        "str[0:3]\n"
      ],
      "metadata": {
        "colab": {
          "base_uri": "https://localhost:8080/",
          "height": 36
        },
        "id": "TjlVerX6HIUw",
        "outputId": "687a14ef-a29a-4a40-b484-ac3282b11997"
      },
      "execution_count": 3,
      "outputs": [
        {
          "output_type": "execute_result",
          "data": {
            "text/plain": [
              "'Pyt'"
            ],
            "application/vnd.google.colaboratory.intrinsic+json": {
              "type": "string"
            }
          },
          "metadata": {},
          "execution_count": 3
        }
      ]
    },
    {
      "cell_type": "code",
      "source": [
        "#4\n",
        "str = \"hello\"\n",
        "str.upper()"
      ],
      "metadata": {
        "colab": {
          "base_uri": "https://localhost:8080/",
          "height": 36
        },
        "id": "UpwljVCyHIW_",
        "outputId": "dc3a2379-ff1f-49d0-f998-303a5b022786"
      },
      "execution_count": 4,
      "outputs": [
        {
          "output_type": "execute_result",
          "data": {
            "text/plain": [
              "'HELLO'"
            ],
            "application/vnd.google.colaboratory.intrinsic+json": {
              "type": "string"
            }
          },
          "metadata": {},
          "execution_count": 4
        }
      ]
    },
    {
      "cell_type": "code",
      "source": [
        "#5\n",
        "text = \"I like apple\"\n",
        "new_text = text.replace(\"apple\", \"orange\")\n",
        "print(new_text)\n"
      ],
      "metadata": {
        "colab": {
          "base_uri": "https://localhost:8080/"
        },
        "id": "hyOttsUlHIZX",
        "outputId": "f25b8522-6743-4cea-9bfd-2e753a3558f1"
      },
      "execution_count": 5,
      "outputs": [
        {
          "output_type": "stream",
          "name": "stdout",
          "text": [
            "I like orange\n"
          ]
        }
      ]
    },
    {
      "cell_type": "code",
      "source": [
        "#6\n",
        "list = [1, 2, 3, 4, 5]\n",
        "print(list)\n"
      ],
      "metadata": {
        "colab": {
          "base_uri": "https://localhost:8080/"
        },
        "id": "NEJ4kTwBHIbk",
        "outputId": "6146f5c2-b216-44fb-df30-4e2430e5ac0c"
      },
      "execution_count": 7,
      "outputs": [
        {
          "output_type": "stream",
          "name": "stdout",
          "text": [
            "[1, 2, 3, 4, 5]\n"
          ]
        }
      ]
    },
    {
      "cell_type": "code",
      "source": [
        "#7\n",
        "list =  [1, 2, 3, 4]\n",
        "list.append(10)\n",
        "list"
      ],
      "metadata": {
        "colab": {
          "base_uri": "https://localhost:8080/"
        },
        "id": "qPA4L-83HIdh",
        "outputId": "6f47e9e7-2697-450b-9727-d3f91d211744"
      },
      "execution_count": 8,
      "outputs": [
        {
          "output_type": "execute_result",
          "data": {
            "text/plain": [
              "[1, 2, 3, 4, 10]"
            ]
          },
          "metadata": {},
          "execution_count": 8
        }
      ]
    },
    {
      "cell_type": "code",
      "source": [
        "#8\n",
        "list = [1, 2, 3, 4, 5]\n",
        "list.remove(3)\n",
        "list"
      ],
      "metadata": {
        "colab": {
          "base_uri": "https://localhost:8080/"
        },
        "id": "UIueix8BHIfn",
        "outputId": "ec5aa6b1-7555-4b34-bbb2-ebbf93a66755"
      },
      "execution_count": 9,
      "outputs": [
        {
          "output_type": "execute_result",
          "data": {
            "text/plain": [
              "[1, 2, 4, 5]"
            ]
          },
          "metadata": {},
          "execution_count": 9
        }
      ]
    },
    {
      "cell_type": "code",
      "source": [
        "#9\n",
        "list = ['a', 'b', 'c', 'd']\n",
        "list[1]"
      ],
      "metadata": {
        "colab": {
          "base_uri": "https://localhost:8080/",
          "height": 36
        },
        "id": "zE-lIA7GHIhk",
        "outputId": "4729536f-d6a9-497f-d6f9-caa7643dd802"
      },
      "execution_count": 10,
      "outputs": [
        {
          "output_type": "execute_result",
          "data": {
            "text/plain": [
              "'b'"
            ],
            "application/vnd.google.colaboratory.intrinsic+json": {
              "type": "string"
            }
          },
          "metadata": {},
          "execution_count": 10
        }
      ]
    },
    {
      "cell_type": "code",
      "source": [
        "#10\n",
        "list =  [10, 20, 30, 40, 50]\n",
        "list[::-1]"
      ],
      "metadata": {
        "colab": {
          "base_uri": "https://localhost:8080/"
        },
        "id": "Mz3cOJW0HIkx",
        "outputId": "81a2f8e1-4012-43f1-bc74-89111881156f"
      },
      "execution_count": 11,
      "outputs": [
        {
          "output_type": "execute_result",
          "data": {
            "text/plain": [
              "[50, 40, 30, 20, 10]"
            ]
          },
          "metadata": {},
          "execution_count": 11
        }
      ]
    },
    {
      "cell_type": "code",
      "source": [
        "#11\n",
        "tup = (100, 200, 300)\n",
        "print(tup)"
      ],
      "metadata": {
        "colab": {
          "base_uri": "https://localhost:8080/"
        },
        "id": "UYXJ-DbMJ5cn",
        "outputId": "27749ec9-de83-472c-e246-1bcda1b1cbc9"
      },
      "execution_count": 12,
      "outputs": [
        {
          "output_type": "stream",
          "name": "stdout",
          "text": [
            "(100, 200, 300)\n"
          ]
        }
      ]
    },
    {
      "cell_type": "code",
      "source": [
        "#12\n",
        "tup1 = ('red', 'green', 'blue', 'yellow')\n",
        "tup1[-2]"
      ],
      "metadata": {
        "colab": {
          "base_uri": "https://localhost:8080/",
          "height": 36
        },
        "id": "f9T6e6GMJ5gb",
        "outputId": "0a8da90d-6575-4c35-f0c7-a5ae2279320b"
      },
      "execution_count": 13,
      "outputs": [
        {
          "output_type": "execute_result",
          "data": {
            "text/plain": [
              "'blue'"
            ],
            "application/vnd.google.colaboratory.intrinsic+json": {
              "type": "string"
            }
          },
          "metadata": {},
          "execution_count": 13
        }
      ]
    },
    {
      "cell_type": "code",
      "source": [
        "#13\n",
        "tup2 =  (10, 20, 5, 15)\n",
        "min(tup2)"
      ],
      "metadata": {
        "colab": {
          "base_uri": "https://localhost:8080/"
        },
        "id": "0azZqxleJ5jt",
        "outputId": "cdebcf60-cef3-4819-dbaf-1d096849575a"
      },
      "execution_count": 14,
      "outputs": [
        {
          "output_type": "execute_result",
          "data": {
            "text/plain": [
              "5"
            ]
          },
          "metadata": {},
          "execution_count": 14
        }
      ]
    },
    {
      "cell_type": "code",
      "source": [
        "#14\n",
        "tup3 =  ('dog', 'cat', 'rabbit')\n",
        "tup3.index('cat')"
      ],
      "metadata": {
        "colab": {
          "base_uri": "https://localhost:8080/"
        },
        "id": "FrIyFGdIJ5nP",
        "outputId": "783568a7-1592-44f6-c8bd-5ef7fe2e2ae2"
      },
      "execution_count": 15,
      "outputs": [
        {
          "output_type": "execute_result",
          "data": {
            "text/plain": [
              "1"
            ]
          },
          "metadata": {},
          "execution_count": 15
        }
      ]
    },
    {
      "cell_type": "code",
      "source": [
        "#15\n",
        "tup4=(\"apple\", \"banana\", \"cherry\")\n",
        "if \"kiwi\" in tup4:\n",
        "  print(\"Yes, 'kiwi' is in the fruits tuple\")\n",
        "else:\n",
        "  print(\"No, 'kiwi' is not in the fruits tuple\")"
      ],
      "metadata": {
        "colab": {
          "base_uri": "https://localhost:8080/"
        },
        "id": "4hXZDgAfJ5qv",
        "outputId": "368d8d18-7801-49e8-f6ea-dd15d6b89198"
      },
      "execution_count": 16,
      "outputs": [
        {
          "output_type": "stream",
          "name": "stdout",
          "text": [
            "No, 'kiwi' is not in the fruits tuple\n"
          ]
        }
      ]
    },
    {
      "cell_type": "code",
      "source": [
        "#15\n",
        "tup5=(\"apple\", \"kiwi\", \"cherry\")\n",
        "if \"kiwi\" in tup5:\n",
        "  print(\"Yes, 'kiwi' is in the fruits tuple\")\n",
        "else:\n",
        "  print(\"No, 'kiwi' is not in the fruits tuple\")"
      ],
      "metadata": {
        "colab": {
          "base_uri": "https://localhost:8080/"
        },
        "id": "GGaM1xAZJ5uX",
        "outputId": "05c3b273-8fcd-418b-db64-07a1fd146488"
      },
      "execution_count": 21,
      "outputs": [
        {
          "output_type": "stream",
          "name": "stdout",
          "text": [
            "Yes, 'kiwi' is in the fruits tuple\n"
          ]
        }
      ]
    },
    {
      "cell_type": "code",
      "source": [
        "#16\n",
        "s = {'a','a','c','b','b', 'c','a'}\n",
        "print(s)"
      ],
      "metadata": {
        "colab": {
          "base_uri": "https://localhost:8080/"
        },
        "id": "kV75Vm_VJ5yN",
        "outputId": "772dd867-0dee-4830-e368-bfbd5b84f673"
      },
      "execution_count": 23,
      "outputs": [
        {
          "output_type": "stream",
          "name": "stdout",
          "text": [
            "{'a', 'b', 'c'}\n"
          ]
        }
      ]
    },
    {
      "cell_type": "code",
      "source": [
        "#17\n",
        "s = {1, 2, 3, 4, 5}\n",
        "s.clear()\n",
        "s"
      ],
      "metadata": {
        "colab": {
          "base_uri": "https://localhost:8080/"
        },
        "id": "Iv4P4RBDJ52F",
        "outputId": "979a5522-4ba4-4a8f-db24-9aeb46cacc3f"
      },
      "execution_count": 24,
      "outputs": [
        {
          "output_type": "execute_result",
          "data": {
            "text/plain": [
              "set()"
            ]
          },
          "metadata": {},
          "execution_count": 24
        }
      ]
    },
    {
      "cell_type": "code",
      "source": [
        "#18\n",
        "s = {1, 2, 3, 4}\n",
        "s.remove(4)\n",
        "s"
      ],
      "metadata": {
        "colab": {
          "base_uri": "https://localhost:8080/"
        },
        "id": "DT_upwccMKmo",
        "outputId": "b0b61a25-3b66-4446-ea51-b89c039fcda0"
      },
      "execution_count": 26,
      "outputs": [
        {
          "output_type": "execute_result",
          "data": {
            "text/plain": [
              "{1, 2, 3}"
            ]
          },
          "metadata": {},
          "execution_count": 26
        }
      ]
    },
    {
      "cell_type": "code",
      "source": [
        "#19\n",
        "s1 = {1, 2, 3}\n",
        "s2 = {3, 4, 5}\n",
        "s1 | s2"
      ],
      "metadata": {
        "colab": {
          "base_uri": "https://localhost:8080/"
        },
        "id": "JCJ8oZjsJ56V",
        "outputId": "ece69b4b-591c-4be8-c5b2-6e1aace941a1"
      },
      "execution_count": 27,
      "outputs": [
        {
          "output_type": "execute_result",
          "data": {
            "text/plain": [
              "{1, 2, 3, 4, 5}"
            ]
          },
          "metadata": {},
          "execution_count": 27
        }
      ]
    },
    {
      "cell_type": "code",
      "source": [
        "#20\n",
        "s1 = {1, 2, 3}\n",
        "s2 = {2, 3, 4}\n",
        "s1 & s2"
      ],
      "metadata": {
        "colab": {
          "base_uri": "https://localhost:8080/"
        },
        "id": "SIoG-993J59y",
        "outputId": "19d63456-dd03-4273-da06-a4f597512b98"
      },
      "execution_count": 28,
      "outputs": [
        {
          "output_type": "execute_result",
          "data": {
            "text/plain": [
              "{2, 3}"
            ]
          },
          "metadata": {},
          "execution_count": 28
        }
      ]
    },
    {
      "cell_type": "code",
      "source": [
        "#21\n",
        "person1 = {\n",
        "    \"name\": \"Rohith\",\n",
        "    \"age\": 18,\n",
        "    \"city\": \"Hyderabad\"\n",
        "}\n",
        "print(person)\n"
      ],
      "metadata": {
        "colab": {
          "base_uri": "https://localhost:8080/"
        },
        "id": "WGjsdivaNQ3S",
        "outputId": "92bc86f4-a80b-45c8-b6de-503435180122"
      },
      "execution_count": 29,
      "outputs": [
        {
          "output_type": "stream",
          "name": "stdout",
          "text": [
            "{'name': 'Rohith', 'age': 18, 'city': 'Hyderabad'}\n"
          ]
        }
      ]
    },
    {
      "cell_type": "code",
      "source": [
        "#22\n",
        "person2 = {'name': 'John', 'age': 25}\n",
        "person2[\"country\"] = \"USA\"\n",
        "person2"
      ],
      "metadata": {
        "colab": {
          "base_uri": "https://localhost:8080/"
        },
        "id": "ILcpWfmiNQ6g",
        "outputId": "3d39217f-1c35-437a-843f-885ad0ec7ba6"
      },
      "execution_count": 31,
      "outputs": [
        {
          "output_type": "execute_result",
          "data": {
            "text/plain": [
              "{'name': 'John', 'age': 25, 'country': 'USA'}"
            ]
          },
          "metadata": {},
          "execution_count": 31
        }
      ]
    },
    {
      "cell_type": "code",
      "source": [
        "#23\n",
        "person3 = {'name': 'Alice', 'age': 30}\n",
        "person3[\"name\"]"
      ],
      "metadata": {
        "colab": {
          "base_uri": "https://localhost:8080/",
          "height": 36
        },
        "id": "yTi-5BuWNQ-N",
        "outputId": "ed0645a7-47ba-4da9-c5d4-fce9782ace77"
      },
      "execution_count": 32,
      "outputs": [
        {
          "output_type": "execute_result",
          "data": {
            "text/plain": [
              "'Alice'"
            ],
            "application/vnd.google.colaboratory.intrinsic+json": {
              "type": "string"
            }
          },
          "metadata": {},
          "execution_count": 32
        }
      ]
    },
    {
      "cell_type": "code",
      "source": [
        "#24\n",
        "person4 =  {'name': 'Bob', 'age': 22, 'city': 'New York'}\n",
        "person4.pop(\"age\")\n",
        "person4"
      ],
      "metadata": {
        "colab": {
          "base_uri": "https://localhost:8080/"
        },
        "id": "K-yyRMJ5NRBu",
        "outputId": "14e4187a-b560-4d2c-f2c4-534553b9f00f"
      },
      "execution_count": 34,
      "outputs": [
        {
          "output_type": "execute_result",
          "data": {
            "text/plain": [
              "{'name': 'Bob', 'city': 'New York'}"
            ]
          },
          "metadata": {},
          "execution_count": 34
        }
      ]
    },
    {
      "cell_type": "code",
      "source": [
        "#25\n",
        "person5 = {'name': 'Alice', 'city': 'Paris'}\n",
        "if 'city' in person5:\n",
        "  print(\"Yes, 'city' is one of the keys in the person dictionary\")\n",
        "else:\n",
        "  print(\"No, 'city' is not one of the keys in the person dictionary\")"
      ],
      "metadata": {
        "colab": {
          "base_uri": "https://localhost:8080/"
        },
        "id": "wJ915lfXNRFB",
        "outputId": "1276b757-c336-4db2-fccd-a9468427c3d4"
      },
      "execution_count": 35,
      "outputs": [
        {
          "output_type": "stream",
          "name": "stdout",
          "text": [
            "Yes, 'city' is one of the keys in the person dictionary\n"
          ]
        }
      ]
    },
    {
      "cell_type": "code",
      "source": [
        "#26\n",
        "my_list = [1, 2, 3, 4, 5]\n",
        "my_tuple = (\"apple\", \"banana\", \"cherry\")\n",
        "my_dict = {\n",
        "    \"name\": \"Rohith\",\n",
        "    \"age\": 18,\n",
        "    \"city\": \"Hyderabad\"\n",
        "}\n",
        "print(\"List:\", my_list)\n",
        "print(\"Tuple:\", my_tuple)\n",
        "print(\"Dictionary:\", my_dict)"
      ],
      "metadata": {
        "colab": {
          "base_uri": "https://localhost:8080/"
        },
        "id": "5l21gsn4NRIW",
        "outputId": "1b706cdb-f92f-4fb1-b7e1-fb2eb5e38434"
      },
      "execution_count": 36,
      "outputs": [
        {
          "output_type": "stream",
          "name": "stdout",
          "text": [
            "List: [1, 2, 3, 4, 5]\n",
            "Tuple: ('apple', 'banana', 'cherry')\n",
            "Dictionary: {'name': 'Rohith', 'age': 18, 'city': 'Hyderabad'}\n"
          ]
        }
      ]
    },
    {
      "cell_type": "code",
      "source": [
        "#27\n",
        "list = [45, 5, 98, 47, 25]\n",
        "list.sort()\n",
        "list"
      ],
      "metadata": {
        "colab": {
          "base_uri": "https://localhost:8080/"
        },
        "id": "yxYBdFJjNRMX",
        "outputId": "83890d52-208b-43bf-de04-39a6f8d051fe"
      },
      "execution_count": 37,
      "outputs": [
        {
          "output_type": "execute_result",
          "data": {
            "text/plain": [
              "[5, 25, 45, 47, 98]"
            ]
          },
          "metadata": {},
          "execution_count": 37
        }
      ]
    },
    {
      "cell_type": "code",
      "source": [
        "#28\n",
        "list = [\"Ajay\", \"Arun\", \"Prabhas\", \"Rohith\", \"Sharma\"]\n",
        "list[3]"
      ],
      "metadata": {
        "colab": {
          "base_uri": "https://localhost:8080/",
          "height": 36
        },
        "id": "_6ADJr5jNRPs",
        "outputId": "50c84de9-e45a-44c1-e1f4-4786604b38e7"
      },
      "execution_count": 38,
      "outputs": [
        {
          "output_type": "execute_result",
          "data": {
            "text/plain": [
              "'Rohith'"
            ],
            "application/vnd.google.colaboratory.intrinsic+json": {
              "type": "string"
            }
          },
          "metadata": {},
          "execution_count": 38
        }
      ]
    },
    {
      "cell_type": "code",
      "source": [
        "#29\n",
        "dict1 = {\"name\": \"Rohith\", \"age\": 18, \"city\": \"Hyderabad\"}\n",
        "dict2 = {\"fav food\": \"Biryani\", \"fav colour\": \"Red\"}\n",
        "dict1.update(dict2)\n",
        "dict1"
      ],
      "metadata": {
        "colab": {
          "base_uri": "https://localhost:8080/"
        },
        "id": "ICo6KPn-NRTW",
        "outputId": "6aadae38-bd8c-44e6-dc7e-ca427df98af9"
      },
      "execution_count": 39,
      "outputs": [
        {
          "output_type": "execute_result",
          "data": {
            "text/plain": [
              "{'name': 'Rohith',\n",
              " 'age': 18,\n",
              " 'city': 'Hyderabad',\n",
              " 'fav food': 'Biryani',\n",
              " 'fav colour': 'Red'}"
            ]
          },
          "metadata": {},
          "execution_count": 39
        }
      ]
    },
    {
      "cell_type": "code",
      "source": [
        "#30\n",
        "string_list = [\"apple\", \"banana\", \"cherry\", \"apple\", \"banana\"]\n",
        "string_set = set(string_list)\n",
        "print(\"Set:\", string_set)"
      ],
      "metadata": {
        "colab": {
          "base_uri": "https://localhost:8080/"
        },
        "id": "GETL9EYiNRWs",
        "outputId": "66130831-0190-4d26-fbc0-7e41ee110008"
      },
      "execution_count": 40,
      "outputs": [
        {
          "output_type": "stream",
          "name": "stdout",
          "text": [
            "Set: {'apple', 'cherry', 'banana'}\n"
          ]
        }
      ]
    }
  ]
}